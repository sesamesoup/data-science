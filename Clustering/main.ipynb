{
 "cells": [
  {
   "cell_type": "markdown",
   "metadata": {},
   "source": [
    "## Clustering"
   ]
  },
  {
   "cell_type": "code",
   "execution_count": 90,
   "metadata": {},
   "outputs": [],
   "source": [
    "import numpy as np\n",
    "import pandas as pd\n",
    "from sklearn.cluster import KMeans\n",
    "from sklearn.cluster import DBSCAN\n",
    "from sklearn.metrics import silhouette_score"
   ]
  },
  {
   "cell_type": "markdown",
   "metadata": {},
   "source": [
    "&nbsp;"
   ]
  },
  {
   "cell_type": "code",
   "execution_count": 91,
   "metadata": {},
   "outputs": [],
   "source": [
    "df = pd.read_csv('clinical_records_dataset.csv')\n",
    "\n",
    "X = df.drop(['DEATH_EVENT', 'time'], axis=1)\n",
    "y_true = df['DEATH_EVENT']"
   ]
  },
  {
   "cell_type": "markdown",
   "metadata": {},
   "source": [
    "&nbsp;"
   ]
  },
  {
   "cell_type": "markdown",
   "metadata": {},
   "source": [
    "### Function for MinMax feature normalization\n",
    "The input `x` is the raw data in a 2-D array of the shape `(number of data points, number of features`.\n",
    "\n",
    "The output `x_norm` is the normalized data of the input `x` with the same shape as the input.\n",
    "\n",
    "This function will be used for normalizing data before using DBSCAN for clustering.\n"
   ]
  },
  {
   "cell_type": "code",
   "execution_count": 92,
   "metadata": {},
   "outputs": [],
   "source": [
    "def feature_norm(x):\n",
    "    # x is a 2-D array of the shape (number of data points, number of features\n",
    "    eps = np.finfo(float).eps\n",
    "    x_norm = x - np.expand_dims(x.min(0), axis=0)\n",
    "    x_norm = x_norm / (np.expand_dims((x.max(0) - x.min(0)), axis=0) + eps)\n",
    "    \n",
    "    return x_norm"
   ]
  },
  {
   "cell_type": "markdown",
   "metadata": {},
   "source": [
    "&nbsp;"
   ]
  },
  {
   "cell_type": "markdown",
   "metadata": {},
   "source": [
    "# Task 1: Function for computing purity\n",
    "This is your function of purity.\n",
    "\n",
    "The indices of the clusters in `y_true` and `y_pred` start from 0 in `compute_purity`, e.g., [1, 1, 0, 0, 2, 2, 2].\n",
    "\n",
    "`y_true` is the array of true class indices of all data points, `len(y_true)=number of data points`.\n",
    "\n",
    "`y_pred` is the array of cluster indices of all data points, `len(y_pred)=number of data points`."
   ]
  },
  {
   "cell_type": "code",
   "execution_count": null,
   "metadata": {},
   "outputs": [],
   "source": [
    "def compute_purity(y_true, y_pred):\n",
    "    # This is your function of purity\n",
    "    # y_true is the array of true class indices of all data points, len(y_true)=number of data points\n",
    "    # y_pred is the array of cluster indices of all data points, len(y_pred)=number of data points\n",
    "\n",
    "    y_true = np.array(y_true)\n",
    "    y_pred = np.array(y_pred)\n",
    "\n",
    "    majorities = []\n",
    "\n",
    "    uniqueClusters = pd.unique(y_pred)\n",
    "\n",
    "    for cluster in uniqueClusters:\n",
    "        # get y_pred indexes whose value = cluster\n",
    "        cluster_idx = np.where(y_pred == cluster)[0]\n",
    "\n",
    "        counts = {}\n",
    "        for i in cluster_idx:\n",
    "            counts[y_true[i]] = counts.setdefault(y_true[i], 0) + 1\n",
    "\n",
    "        majorities.append(max(counts.values()))\n",
    "    \n",
    "    purity = sum(majorities)/len(y_true)\n",
    "    return purity"
   ]
  },
  {
   "cell_type": "markdown",
   "metadata": {},
   "source": [
    "&nbsp;"
   ]
  },
  {
   "cell_type": "markdown",
   "metadata": {},
   "source": [
    "# Task 2"
   ]
  },
  {
   "cell_type": "code",
   "execution_count": 94,
   "metadata": {},
   "outputs": [
    {
     "name": "stdout",
     "output_type": "stream",
     "text": [
      "Cluster 0:\n",
      "- count: 234\n",
      "- % of data points:  0.78\n",
      "\n",
      "Cluster 1:\n",
      "- count: 65\n",
      "- % of data points:  0.22\n",
      "\n",
      "Clustering Result Purity:  0.6789\n",
      "Purity of Cluster 0:  0.69\n",
      "Purity of Cluster 1:  0.63\n"
     ]
    }
   ],
   "source": [
    "kmeans = KMeans(n_clusters=2, random_state=42).fit(X)\n",
    "y_pred = kmeans.fit_predict(X)\n",
    "\n",
    "uniqueClusters = np.unique(y_pred)\n",
    "\n",
    "for cluster in uniqueClusters:\n",
    "    dataCount = len(np.where(y_pred == cluster)[0])\n",
    "    print(f\"Cluster {cluster}:\")\n",
    "    print(f\"- count: {dataCount}\")\n",
    "    print(f\"- % of data points: {dataCount/len(y_pred) : .2f}\")\n",
    "    print(\"\\r\")\n",
    "\n",
    "purity = compute_purity(y_true, y_pred)\n",
    "print(f\"Clustering Result Purity: {purity: .4f}\")\n",
    "\n",
    "for cluster in uniqueClusters:\n",
    "    cluster_idx = np.where(y_pred == cluster)[0]\n",
    "    true = y_true[cluster_idx]\n",
    "    pred = y_pred[cluster_idx]\n",
    "\n",
    "    purity_of_cluster = compute_purity(true, pred)\n",
    "    print(f\"Purity of Cluster {cluster}: {purity_of_cluster: .2f}\")\n",
    "\n"
   ]
  },
  {
   "cell_type": "markdown",
   "metadata": {},
   "source": [
    "78% of the data points were assigned to Cluster 0 and 22% of the data points were assigned to Cluster 1. \n",
    "\n",
    "The purity of the clustering result is 68%. \n",
    "\n",
    "The purity of Cluster 0 is 69% and the purity of Cluster 1 is 63% with Cluster 0 having the highest purity."
   ]
  },
  {
   "cell_type": "markdown",
   "metadata": {},
   "source": [
    "&nbsp;"
   ]
  },
  {
   "cell_type": "markdown",
   "metadata": {},
   "source": [
    "# Task 3"
   ]
  },
  {
   "cell_type": "code",
   "execution_count": 149,
   "metadata": {},
   "outputs": [
    {
     "data": {
      "text/html": [
       "<div>\n",
       "<style scoped>\n",
       "    .dataframe tbody tr th:only-of-type {\n",
       "        vertical-align: middle;\n",
       "    }\n",
       "\n",
       "    .dataframe tbody tr th {\n",
       "        vertical-align: top;\n",
       "    }\n",
       "\n",
       "    .dataframe thead th {\n",
       "        text-align: right;\n",
       "    }\n",
       "</style>\n",
       "<table border=\"1\" class=\"dataframe\">\n",
       "  <thead>\n",
       "    <tr style=\"text-align: right;\">\n",
       "      <th></th>\n",
       "      <th>k</th>\n",
       "      <th>Purity</th>\n",
       "      <th>Silhouette Coefficient</th>\n",
       "    </tr>\n",
       "  </thead>\n",
       "  <tbody>\n",
       "    <tr>\n",
       "      <th>0</th>\n",
       "      <td>2</td>\n",
       "      <td>0.678930</td>\n",
       "      <td>0.575425</td>\n",
       "    </tr>\n",
       "    <tr>\n",
       "      <th>1</th>\n",
       "      <td>10</td>\n",
       "      <td>0.684281</td>\n",
       "      <td>0.574478</td>\n",
       "    </tr>\n",
       "    <tr>\n",
       "      <th>2</th>\n",
       "      <td>30</td>\n",
       "      <td>0.700669</td>\n",
       "      <td>0.552328</td>\n",
       "    </tr>\n",
       "    <tr>\n",
       "      <th>3</th>\n",
       "      <td>50</td>\n",
       "      <td>0.723746</td>\n",
       "      <td>0.561044</td>\n",
       "    </tr>\n",
       "    <tr>\n",
       "      <th>4</th>\n",
       "      <td>100</td>\n",
       "      <td>0.765886</td>\n",
       "      <td>0.509231</td>\n",
       "    </tr>\n",
       "  </tbody>\n",
       "</table>\n",
       "</div>"
      ],
      "text/plain": [
       "     k    Purity  Silhouette Coefficient\n",
       "0    2  0.678930                0.575425\n",
       "1   10  0.684281                0.574478\n",
       "2   30  0.700669                0.552328\n",
       "3   50  0.723746                0.561044\n",
       "4  100  0.765886                0.509231"
      ]
     },
     "execution_count": 149,
     "metadata": {},
     "output_type": "execute_result"
    }
   ],
   "source": [
    "k_arr = [2, 10, 30, 50, 100]\n",
    "results = []\n",
    "\n",
    "for k in k_arr:\n",
    "    arr = []\n",
    "    purity_arr = []\n",
    "    silhouette_score_arr = []\n",
    "    for i in range(10):\n",
    "        kmeans = KMeans(n_clusters=k)\n",
    "        y_pred = kmeans.fit_predict(X)\n",
    "\n",
    "        purity_k = compute_purity(y_true, y_pred)\n",
    "        purity_arr.append(purity_k)\n",
    "\n",
    "        score = silhouette_score(X, y_pred, metric='euclidean')\n",
    "        silhouette_score_arr.append(score)\n",
    "\n",
    "    results.append([k, np.average(purity_arr), np.average(silhouette_score_arr)])\n",
    "\n",
    "pd.DataFrame(results, columns=[\"k\", \"Purity\", \"Silhouette Coefficient\"])"
   ]
  },
  {
   "cell_type": "markdown",
   "metadata": {},
   "source": [
    "The best purity result was obtained when k = 100 and the best silhouette coefficient was obtained when k = 2 (or k = 10). \n",
    "\n",
    "For K-means, purity measures the agreement between the assigned clusters and the ground truth labels of the data points (or the percent of the total number of data points that were classified correctly). Purity ranges between 0 and 1, with higher purity values indicating higher agreement, and 1 meaning that all data points within a cluster share the same ground truth label and high cluster quality. \n",
    "\n",
    "Typically, it is easier to achieve a higher purity when k is large. \n",
    "\n",
    "When there are less clusters/lower value of k, there are more data points within each cluster that can belong to different classes (more possible classes). This would decrease the purity since there is a higher possibility of the data points being possibly misclassified/predicted incorrectly. \n",
    "\n",
    "While with higher numbers of clusters, there are less data points in each cluster that could possibly belong to different classees. In other words there is a higher chance of each cluster containing a single class, thus increasing the purity value. Smaller clusters are also able to capture patterns more as compared to larger clusters. For example, if each data point were assigned to its own cluster, then the purity score would be 1 as it indicates higher agreement."
   ]
  },
  {
   "cell_type": "markdown",
   "metadata": {},
   "source": [
    "&nbsp;"
   ]
  },
  {
   "cell_type": "markdown",
   "metadata": {},
   "source": [
    "# Task 4"
   ]
  },
  {
   "cell_type": "code",
   "execution_count": 96,
   "metadata": {},
   "outputs": [
    {
     "data": {
      "text/html": [
       "<div>\n",
       "<style scoped>\n",
       "    .dataframe tbody tr th:only-of-type {\n",
       "        vertical-align: middle;\n",
       "    }\n",
       "\n",
       "    .dataframe tbody tr th {\n",
       "        vertical-align: top;\n",
       "    }\n",
       "\n",
       "    .dataframe thead th {\n",
       "        text-align: right;\n",
       "    }\n",
       "</style>\n",
       "<table border=\"1\" class=\"dataframe\">\n",
       "  <thead>\n",
       "    <tr style=\"text-align: right;\">\n",
       "      <th></th>\n",
       "      <th>eps</th>\n",
       "      <th>Number of Clusters</th>\n",
       "      <th>Number of Anomalies</th>\n",
       "      <th>Purity</th>\n",
       "    </tr>\n",
       "  </thead>\n",
       "  <tbody>\n",
       "    <tr>\n",
       "      <th>0</th>\n",
       "      <td>0.3</td>\n",
       "      <td>18</td>\n",
       "      <td>146</td>\n",
       "      <td>0.688963</td>\n",
       "    </tr>\n",
       "    <tr>\n",
       "      <th>1</th>\n",
       "      <td>0.5</td>\n",
       "      <td>22</td>\n",
       "      <td>21</td>\n",
       "      <td>0.688963</td>\n",
       "    </tr>\n",
       "    <tr>\n",
       "      <th>2</th>\n",
       "      <td>0.7</td>\n",
       "      <td>22</td>\n",
       "      <td>13</td>\n",
       "      <td>0.695652</td>\n",
       "    </tr>\n",
       "  </tbody>\n",
       "</table>\n",
       "</div>"
      ],
      "text/plain": [
       "   eps  Number of Clusters  Number of Anomalies    Purity\n",
       "0  0.3                  18                  146  0.688963\n",
       "1  0.5                  22                   21  0.688963\n",
       "2  0.7                  22                   13  0.695652"
      ]
     },
     "execution_count": 96,
     "metadata": {},
     "output_type": "execute_result"
    }
   ],
   "source": [
    "X_norm = feature_norm(X)\n",
    "\n",
    "eps_arr = [0.3, 0.5, 0.7]\n",
    "\n",
    "dbs_results = []\n",
    "\n",
    "for eps in eps_arr:    \n",
    "    clustering = DBSCAN(eps=eps, min_samples=5, metric='euclidean')\n",
    "    y_pred = clustering.fit_predict(X_norm)\n",
    "\n",
    "    # number of clusters and noisy points\n",
    "    n_clusters = len(set(y_pred)) - (1 if -1 in y_pred else 0)\n",
    "    n_noise = list(y_pred).count(-1)\n",
    "    \n",
    "    purity_dbs = compute_purity(y_true, y_pred)\n",
    "\n",
    "    dbs_results.append([eps, n_clusters, n_noise, purity_dbs])\n",
    "\n",
    "\n",
    "pd.DataFrame(dbs_results, columns=[\"eps\", \"Number of Clusters\", \"Number of Anomalies\", \"Purity\"])"
   ]
  },
  {
   "cell_type": "markdown",
   "metadata": {},
   "source": [
    "The best purity was obtained when eps = 0.7."
   ]
  },
  {
   "cell_type": "code",
   "execution_count": 97,
   "metadata": {},
   "outputs": [
    {
     "data": {
      "text/html": [
       "<div>\n",
       "<style scoped>\n",
       "    .dataframe tbody tr th:only-of-type {\n",
       "        vertical-align: middle;\n",
       "    }\n",
       "\n",
       "    .dataframe tbody tr th {\n",
       "        vertical-align: top;\n",
       "    }\n",
       "\n",
       "    .dataframe thead th {\n",
       "        text-align: right;\n",
       "    }\n",
       "</style>\n",
       "<table border=\"1\" class=\"dataframe\">\n",
       "  <thead>\n",
       "    <tr style=\"text-align: right;\">\n",
       "      <th></th>\n",
       "      <th>eps</th>\n",
       "      <th>Number of Clusters</th>\n",
       "      <th>Number of Anomalies</th>\n",
       "      <th>Purity</th>\n",
       "    </tr>\n",
       "  </thead>\n",
       "  <tbody>\n",
       "    <tr>\n",
       "      <th>0</th>\n",
       "      <td>0.3</td>\n",
       "      <td>18</td>\n",
       "      <td>146</td>\n",
       "      <td>0.777778</td>\n",
       "    </tr>\n",
       "    <tr>\n",
       "      <th>1</th>\n",
       "      <td>0.5</td>\n",
       "      <td>22</td>\n",
       "      <td>21</td>\n",
       "      <td>0.701439</td>\n",
       "    </tr>\n",
       "    <tr>\n",
       "      <th>2</th>\n",
       "      <td>0.7</td>\n",
       "      <td>22</td>\n",
       "      <td>13</td>\n",
       "      <td>0.702797</td>\n",
       "    </tr>\n",
       "  </tbody>\n",
       "</table>\n",
       "</div>"
      ],
      "text/plain": [
       "   eps  Number of Clusters  Number of Anomalies    Purity\n",
       "0  0.3                  18                  146  0.777778\n",
       "1  0.5                  22                   21  0.701439\n",
       "2  0.7                  22                   13  0.702797"
      ]
     },
     "execution_count": 97,
     "metadata": {},
     "output_type": "execute_result"
    }
   ],
   "source": [
    "X_norm = feature_norm(X)\n",
    "\n",
    "eps_arr = [0.3, 0.5, 0.7]\n",
    "\n",
    "dbs_results = []\n",
    "\n",
    "for eps in eps_arr:    \n",
    "    clustering = DBSCAN(eps=eps, min_samples=5, metric='euclidean')\n",
    "    y_pred = clustering.fit_predict(X_norm)\n",
    "\n",
    "    # number of clusters and noisy points\n",
    "    n_clusters = len(set(y_pred)) - (1 if -1 in y_pred else 0)\n",
    "    n_noise = list(y_pred).count(-1)\n",
    "    \n",
    "    true = y_true\n",
    "\n",
    "    # remove noise/anomalies\n",
    "    range_max = len(X_norm)\n",
    "    true = np.array([true[i] for i in range(0, range_max) if y_pred[i] != -1])\n",
    "    y_pred = np.array([y_pred[i] for i in range(0, range_max) if y_pred[i] != -1])\n",
    "\n",
    "    purity_dbs = compute_purity(true, y_pred)\n",
    "\n",
    "    dbs_results.append([eps, n_clusters, n_noise, purity_dbs])\n",
    "\n",
    "\n",
    "pd.DataFrame(dbs_results, columns=[\"eps\", \"Number of Clusters\", \"Number of Anomalies\", \"Purity\"])"
   ]
  },
  {
   "cell_type": "markdown",
   "metadata": {},
   "source": [
    "(If anomalies were removed, then the best purity is obtained when eps = 0.3)"
   ]
  }
 ],
 "metadata": {
  "kernelspec": {
   "display_name": ".venv",
   "language": "python",
   "name": "python3"
  },
  "language_info": {
   "codemirror_mode": {
    "name": "ipython",
    "version": 3
   },
   "file_extension": ".py",
   "mimetype": "text/x-python",
   "name": "python",
   "nbconvert_exporter": "python",
   "pygments_lexer": "ipython3",
   "version": "3.9.6"
  }
 },
 "nbformat": 4,
 "nbformat_minor": 2
}
